{
 "cells": [
  {
   "cell_type": "code",
   "execution_count": 1,
   "metadata": {},
   "outputs": [
    {
     "name": "stderr",
     "output_type": "stream",
     "text": [
      "Using TensorFlow backend.\n"
     ]
    }
   ],
   "source": [
    "from flow_dataframe import flow_from_dataframe\n",
    "\n",
    "import numpy as np\n",
    "import pandas as pd\n",
    "import os\n",
    "import sys\n",
    "from itertools import cycle\n",
    "\n",
    "from keras.models import load_model\n",
    "from keras.preprocessing.image import ImageDataGenerator\n",
    "import tensorflow as tf"
   ]
  },
  {
   "cell_type": "code",
   "execution_count": 2,
   "metadata": {},
   "outputs": [],
   "source": [
    "# with tf.device('/cpu:0'):\n",
    "#     model = load_model('results/mae_11/bone_age_weights.best.hdf5')\n",
    "\n",
    "model = load_model('results/mae_11/bone_age_weights.best.hdf5')"
   ]
  },
  {
   "cell_type": "code",
   "execution_count": 3,
   "metadata": {},
   "outputs": [],
   "source": [
    "class_str_col = 'boneage'\n",
    "gender_str_col = 'male'\n",
    "\n",
    "IMG_SIZE = (299, 299)\n",
    "BATCH_SIZE = 32\n"
   ]
  },
  {
   "cell_type": "code",
   "execution_count": 4,
   "metadata": {},
   "outputs": [],
   "source": [
    "base_bone_dir = os.path.join('rsna-bone-age')\n",
    "boneage_df = pd.read_csv(os.path.join(base_bone_dir, 'boneage-test-dataset.csv'))\n",
    "boneage_df['path'] = boneage_df['fileName'].map(lambda x: os.path.join(base_bone_dir,\n",
    "                                                         'boneage-test-dataset', \n",
    "                                                         'boneage-test-dataset', \n",
    "                                                         '{}'.format(x)))"
   ]
  },
  {
   "cell_type": "code",
   "execution_count": 5,
   "metadata": {},
   "outputs": [
    {
     "name": "stdout",
     "output_type": "stream",
     "text": [
      "1262 images found of 1262 total\n"
     ]
    }
   ],
   "source": [
    "boneage_df['exists'] = boneage_df['path'].map(os.path.exists)\n",
    "print(boneage_df['exists'].sum(), 'images found of', boneage_df.shape[0], 'total')"
   ]
  },
  {
   "cell_type": "code",
   "execution_count": 6,
   "metadata": {},
   "outputs": [],
   "source": [
    "boneage_df[gender_str_col] = boneage_df[gender_str_col].map(\n",
    "    lambda x: np.array([1]) if x else np.array([0])\n",
    "    ) # map boolean values to 1 and 0"
   ]
  },
  {
   "cell_type": "code",
   "execution_count": 7,
   "metadata": {},
   "outputs": [],
   "source": [
    "img_gen = ImageDataGenerator()"
   ]
  },
  {
   "cell_type": "code",
   "execution_count": 8,
   "metadata": {},
   "outputs": [
    {
     "name": "stdout",
     "output_type": "stream",
     "text": [
      "flow_from_dataframe() -->\n",
      "## Ignore next message from keras, values are replaced anyways\n",
      "Found 1262 images belonging to 1 classes.\n",
      "Reinserting dataframe: 1262 images\n",
      "flow_from_dataframe() <--\n"
     ]
    }
   ],
   "source": [
    "# used a fixed dataset for evaluating the algorithm\n",
    "gen_boneage = flow_from_dataframe(img_gen, boneage_df, path_col='path',\n",
    "                                        target_size=IMG_SIZE,\n",
    "                                        color_mode='rgb',\n",
    "                                        batch_size=BATCH_SIZE)"
   ]
  },
  {
   "cell_type": "code",
   "execution_count": null,
   "metadata": {},
   "outputs": [],
   "source": []
  },
  {
   "cell_type": "code",
   "execution_count": 12,
   "metadata": {},
   "outputs": [],
   "source": [
    "def combined_generators(image_generator, gender_data, batch_size):\n",
    "    gender_generator = cycle(batch(gender_data, batch_size))\n",
    "    while True:\n",
    "        nextImage = next(image_generator)\n",
    "        nextGender = next(gender_generator)\n",
    "        assert len(nextImage[0]) == len(nextGender)\n",
    "        yield [nextImage[0], nextGender], nextImage[1]\n",
    "\n",
    "def batch(iterable, n=1):\n",
    "    l = len(iterable)\n",
    "    for ndx in range(0, l, n):\n",
    "        yield iterable[ndx:min(ndx + n, l)]"
   ]
  },
  {
   "cell_type": "code",
   "execution_count": 13,
   "metadata": {},
   "outputs": [],
   "source": [
    "gen_wrapper = combined_generators(gen_boneage, boneage_df[gender_str_col], BATCH_SIZE)"
   ]
  },
  {
   "cell_type": "code",
   "execution_count": 14,
   "metadata": {},
   "outputs": [
    {
     "name": "stdout",
     "output_type": "stream",
     "text": [
      "40/40 [==============================] - 61s 2s/step\n"
     ]
    }
   ],
   "source": [
    "history = model.predict_generator(gen_wrapper, steps=len(gen_boneage), workers=4, use_multiprocessing=True, verbose=1)"
   ]
  },
  {
   "cell_type": "code",
   "execution_count": 16,
   "metadata": {},
   "outputs": [
    {
     "name": "stdout",
     "output_type": "stream",
     "text": [
      "[[133.60597]\n",
      " [130.72531]\n",
      " [133.54732]\n",
      " ...\n",
      " [135.35689]\n",
      " [132.83064]\n",
      " [131.94247]]\n"
     ]
    }
   ],
   "source": [
    "history"
   ]
  },
  {
   "cell_type": "code",
   "execution_count": null,
   "metadata": {},
   "outputs": [],
   "source": []
  }
 ],
 "metadata": {
  "kernelspec": {
   "display_name": "tensorflow-gpu",
   "language": "python",
   "name": "tensorflow-gpu"
  },
  "language_info": {
   "codemirror_mode": {
    "name": "ipython",
    "version": 3
   },
   "file_extension": ".py",
   "mimetype": "text/x-python",
   "name": "python",
   "nbconvert_exporter": "python",
   "pygments_lexer": "ipython3",
   "version": "3.7.5"
  }
 },
 "nbformat": 4,
 "nbformat_minor": 4
}
