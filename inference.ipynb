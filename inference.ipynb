{
 "cells": [
  {
   "cell_type": "code",
   "execution_count": null,
   "metadata": {},
   "outputs": [],
   "source": [
    "from flow_dataframe import flow_from_dataframe\n",
    "\n",
    "import numpy as np\n",
    "import pandas as pd\n",
    "import os\n",
    "import sys\n",
    "from itertools import cycle\n",
    "\n",
    "from keras.models import load_model\n",
    "from keras.preprocessing.image import ImageDataGenerator"
   ]
  },
  {
   "cell_type": "code",
   "execution_count": null,
   "metadata": {},
   "outputs": [],
   "source": [
    "print('==================================================')\n",
    "print('================ Evaluating Model ================')\n",
    "print('==================================================')\n",
    "\n",
    "model.load_weights(weight_path)\n",
    "test_df = pd.read_csv(os.path.join(base_dir, 'boneage-test-dataset.csv'))\n",
    "test_df['path'] = test_df['fileName'].map(lambda x: os.path.join(base_dir,\n",
    "                                                                 'boneage-test-dataset', \n",
    "                                                                 'boneage-test-dataset', \n",
    "                                                                 '{}'.format(x)))\n",
    "# test_datagen = ImageDataGenerator(samplewise_center = True, \n",
    "#                                    samplewise_std_normalization = True, \n",
    "#                                    horizontal_flip = False, \n",
    "#                                    vertical_flip = False, \n",
    "#                                    height_shift_range = 0.1, \n",
    "#                                    width_shift_range = 0.1, \n",
    "#                                    rotation_range = 10, \n",
    "#                                    shear_range = 0.05,\n",
    "#                                    fill_mode = 'nearest',\n",
    "#                                    zoom_range = 0.15)\n",
    "\n",
    "test_datagen = ImageDataGenerator(preprocessing_function=preprocess_input)\n",
    "\n",
    "test_df['exists'] = test_df['path'].map(os.path.exists)\n",
    "test_df['gender'] = test_df['male'].map(lambda x: 'male' if x else 'female')\n",
    "\n",
    "test_gen = flow_from_dataframe(test_datagen, test_df, \n",
    "                               path_col = 'path',\n",
    "                               y_col = 'bone_age_zscore', \n",
    "                               class_mode = None,\n",
    "                               target_size = IMG_SIZE,\n",
    "                               color_mode = 'rgb',\n",
    "                               batch_size = 1)\n",
    "\n",
    "pred = bone_age_div * model.predict_generator(test_gen, len(test_df), verbose = True) + bone_age_mean\n",
    "predictions = np.array(pred)\n",
    "predictions = predictions.flatten()\n",
    "\n",
    "print(predictions)"
   ]
  },
  {
   "cell_type": "code",
   "execution_count": null,
   "metadata": {},
   "outputs": [],
   "source": [
    "filenames = test_df.fileName\n",
    "results = pd.DataFrame({\"fileName\":filenames, \"boneage\":predictions})\n",
    "results.to_csv(\"results.csv\",index=False)\n",
    "rint(predictions)\n",
    "\n",
    "filenames = test_df.fileName\n",
    "results = pd.DataFrame({\"fileName\":filenames, \"boneage\":predictions})\n",
    "results.to_csv(\"results.csv\",index=False)"
   ]
  }
 ],
 "metadata": {
  "kernelspec": {
   "display_name": "Python 3",
   "language": "python",
   "name": "python3"
  },
  "language_info": {
   "codemirror_mode": {
    "name": "ipython",
    "version": 3
   },
   "file_extension": ".py",
   "mimetype": "text/x-python",
   "name": "python",
   "nbconvert_exporter": "python",
   "pygments_lexer": "ipython3",
   "version": "3.7.4"
  }
 },
 "nbformat": 4,
 "nbformat_minor": 4
}
